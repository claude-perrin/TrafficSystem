{
 "cells": [
  {
   "cell_type": "code",
   "execution_count": null,
   "metadata": {},
   "outputs": [],
   "source": [
    "import pandas as pd\n",
    "import numpy as np\n",
    "import torch\n",
    "from torch import nn\n",
    "import torchvision\n",
    "from torchvision.io import read_image\n",
    "from torchvision.utils import draw_bounding_boxes\n",
    "\n",
    "\n",
    "img = read_image('/Users/viktor/polsl/bachelor_project/DatasetTraffic/dataset/sec1/sec1_frame_004492.png'\n",
    "bbox = [[0.019802, 0.015259, 0.396367*1920, 0.304398*1080],[0.206458, 0.373509, 0.019802, 0.015259]]\n",
    "bbox = torch.tensor(bbox, dtype=torch.int)\n",
    "top_left_x = center_x - width / 2\n",
    "top_left_y = center_y - height / 2\n",
    "bottom_right_x = center_x + width / 2\n",
    "bottom_right_y = center_y + height / 2\n",
    "adjusted_box = [top_left_x, top_left_y, bottom_right_x, bottom_right_y]\n",
    "\n",
    "print(bbox)\n",
    "print(bbox.size())\n",
    "\n",
    "img=draw_bounding_boxes(img, bbox, width=3, colors=[(255,0,0),(0,255,0)])\n",
    "img = torchvision.transforms.ToPILImage()(img)\n",
    "img.show()\n",
    "\n",
    "\n"
   ]
  },
  {
   "cell_type": "code",
   "execution_count": null,
   "metadata": {},
   "outputs": [],
   "source": [
    "# %%time\n",
    "if not torch.backends.mps.is_available():\n",
    "    if not torch.backends.mps.is_built():\n",
    "        print(\"MPS not available because the current PyTorch install was not \"\n",
    "              \"built with MPS enabled.\")\n",
    "    else:\n",
    "        print(\"MPS not available because the current MacOS version is not 12.3+ \"\n",
    "              \"and/or you do not have an MPS-enabled device on this machine.\")\n",
    "else:\n",
    "    print(\"MPS found\")\n",
    "    device = torch.device(\"mps\")"
   ]
  },
  {
   "cell_type": "code",
   "execution_count": null,
   "metadata": {},
   "outputs": [],
   "source": [
    "class TrafficDataset(torch.utils.data.Dataset):\n",
    "    def __init__(self, root_path, transforms=None):\n",
    "        self.root_path = root_path\n",
    "        self.transforms = transforms\n",
    "\n",
    "        self.frames, self.labels = self.__get_frames_labels(self.root_path)\n",
    "    \n",
    "    def __get_frames_labels(self, root_path):\n",
    "        frames = []\n",
    "        labels = []\n",
    "        for _, _, files in os.walk(self.root_path):\n",
    "            sorted_files = sorted(files)\n",
    "            for id, file in enumerate(sorted_files[1::2]):\n",
    "                labels.append(os.path.join(sec1, file))\n",
    "                frames.append(os.path.join(sec1, sorted_files[id*2]))\n",
    "        return tuple(frames), tuple(labels)\n",
    "\n",
    "    def __getitem__(self, idx):\n",
    "        frame = self.frames[idx]\n",
    "        label = self.labels[idx]\n",
    "\n",
    "        frame = read_image(frame)\n",
    "        with open(label) as f:\n",
    "            label = f.readlines()\n",
    "        num_objs = len(label)\n",
    "        \n",
    "\n",
    "\n",
    "\n",
    "current_path = os.path.dirname(os.path.abspath(\"__file__\"))\n",
    "dataset_path = os.path.join(current_path, \"..\", \"DatasetTraffic\", \"dataset\", \"sec1\")\n",
    "\n",
    "obj = TrafficDataset(dataset_path)\n",
    "\n",
    "obj[-1]\n"
   ]
  }
 ],
 "metadata": {
  "kernelspec": {
   "display_name": "mlp",
   "language": "python",
   "name": "python3"
  },
  "language_info": {
   "codemirror_mode": {
    "name": "ipython",
    "version": 3
   },
   "file_extension": ".py",
   "mimetype": "text/x-python",
   "name": "python",
   "nbconvert_exporter": "python",
   "pygments_lexer": "ipython3",
   "version": "3.10.12"
  },
  "orig_nbformat": 4
 },
 "nbformat": 4,
 "nbformat_minor": 2
}
